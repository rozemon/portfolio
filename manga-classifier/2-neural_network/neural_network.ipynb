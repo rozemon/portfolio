{
 "cells": [
  {
   "cell_type": "markdown",
   "metadata": {},
   "source": [
    "# NEURAL NETWORK\n",
    "A manga can be labeled with more than one genre, so it's a multilabel classification.\n",
    "First the plots are cleaned, then only the top genres are selected for the training.\n"
   ]
  },
  {
   "cell_type": "code",
   "execution_count": 1,
   "metadata": {},
   "outputs": [
    {
     "name": "stderr",
     "output_type": "stream",
     "text": [
      "[nltk_data] Downloading package stopwords to\n",
      "[nltk_data]     /home/rosario/nltk_data...\n",
      "[nltk_data]   Package stopwords is already up-to-date!\n"
     ]
    },
    {
     "data": {
      "text/plain": [
       "True"
      ]
     },
     "execution_count": 1,
     "metadata": {},
     "output_type": "execute_result"
    }
   ],
   "source": [
    "import sys, os, re, csv, codecs, numpy as np, pandas as pd\n",
    "import seaborn as sns\n",
    "import matplotlib.pyplot as plt\n",
    "%matplotlib inline\n",
    "import ast\n",
    "from tensorflow.keras.preprocessing.text import Tokenizer\n",
    "from tensorflow.keras.preprocessing.sequence import pad_sequences\n",
    "from tensorflow.keras.layers import Dense, Input, LSTM, Embedding, Dropout, Activation\n",
    "from tensorflow.keras.layers import Bidirectional, GlobalMaxPool1D\n",
    "from tensorflow.keras.models import Model\n",
    "from tensorflow.keras import initializers, regularizers, constraints, optimizers, layers\n",
    "from sklearn.preprocessing import MultiLabelBinarizer\n",
    "import nltk\n",
    "from nltk.corpus import stopwords\n",
    "nltk.download('stopwords')"
   ]
  },
  {
   "cell_type": "code",
   "execution_count": 2,
   "metadata": {},
   "outputs": [],
   "source": [
    "STOPWORDS = set(stopwords.words('english'))"
   ]
  },
  {
   "cell_type": "code",
   "execution_count": 3,
   "metadata": {
    "scrolled": false
   },
   "outputs": [],
   "source": [
    "df = pd.read_csv(\"mangadb.csv\", sep = \";\", encoding='utf-8', index_col=0)\n",
    "df['Genre'] = df['Genre'].apply(ast.literal_eval)\n",
    "df.dropna(subset = ['Plot'], inplace = True)\n",
    "genre_count = df['Genre'].apply(pd.Series).stack().value_counts()\n"
   ]
  },
  {
   "cell_type": "code",
   "execution_count": 4,
   "metadata": {},
   "outputs": [],
   "source": [
    "#only keeps genres with a count of over 400\n",
    "threshold = 400\n",
    "df_genres = genre_count.to_frame().reset_index()\n",
    "df_genres.columns = ['Genre', 'Count']\n",
    "df_genres_top = (df_genres[df_genres['Count'] > threshold])\n",
    "list_genres_top = list(df_genres_top['Genre'])\n",
    "df_top = pd.DataFrame()\n",
    "\n",
    "#dataframe cleaning\n",
    "for index, row in df.iterrows():\n",
    "    plot = row['Plot']\n",
    "    for word in STOPWORDS:\n",
    "        token = ' ' + word + ' '\n",
    "        plot = plot.replace(token, ' ').replace(' ', ' ')\n",
    "    df.at[index, 'Plot'] = plot.replace(\"\\n\", \" \").replace(\"\\r\", \" \").replace(\"\\\\\", \" \")\n",
    "    list_permitted = []\n",
    "    for gen in row['Genre']:\n",
    "        if gen in list_genres_top:\n",
    "            list_permitted.append(gen)\n",
    "    if len(list_permitted) != 0: \n",
    "        df.at[index, 'Genre'] = list_permitted\n",
    "    else:\n",
    "        df.drop(index, inplace=True)\n",
    "df.reset_index(drop=True, inplace=True)\n"
   ]
  },
  {
   "cell_type": "code",
   "execution_count": 5,
   "metadata": {},
   "outputs": [
    {
     "data": {
      "image/png": "[encoded data removed]",
      "text/plain": [
       "<Figure size 720x432 with 1 Axes>"
      ]
     },
     "metadata": {},
     "output_type": "display_data"
    }
   ],
   "source": [
    "genre_count_top = df['Genre'].apply(pd.Series).stack().value_counts()\n",
    "df_genres_top = genre_count_top.to_frame().reset_index()\n",
    "df_genres_top.columns = ['Genre', 'Count']\n",
    "plt.figure(figsize=(10,6)) \n",
    "ax = sns.barplot(data=df_genres_top, x= \"Count\", y = \"Genre\") \n",
    "plt.show()"
   ]
  },
  {
   "cell_type": "code",
   "execution_count": 6,
   "metadata": {},
   "outputs": [],
   "source": [
    "train_genres = df['Genre']\n",
    "train_plot = df['Plot']"
   ]
  },
  {
   "cell_type": "markdown",
   "metadata": {},
   "source": [
    "The labels are transformed in multi-hot vectors, then the plot sequences are padded (so they have all the same length)."
   ]
  },
  {
   "cell_type": "code",
   "execution_count": 7,
   "metadata": {},
   "outputs": [
    {
     "name": "stdout",
     "output_type": "stream",
     "text": [
      "['Action' 'Adventure' 'Comedy' 'Drama' 'Fantasy' 'Romance' 'School Life'\n",
      " 'Seinen' 'Shoujo' 'Shounen' 'Slice of Life' 'Supernatural']\n",
      "[0 0 1 1 0 0 1 0 0 1 0 0]\n"
     ]
    }
   ],
   "source": [
    "encoder = MultiLabelBinarizer()\n",
    "encoder.fit_transform(train_genres)\n",
    "y = encoder.transform(train_genres)\n",
    "num_classes = len(encoder.classes_)\n",
    "\n",
    "# Print all possible genres and the labels for the first manga in the dataset\n",
    "print(encoder.classes_)\n",
    "print(y[0])"
   ]
  },
  {
   "cell_type": "code",
   "execution_count": 8,
   "metadata": {},
   "outputs": [],
   "source": [
    "max_features = 20000\n",
    "tokenizer = Tokenizer(num_words=max_features)\n",
    "tokenizer.fit_on_texts(list(train_plot))\n",
    "list_tokenized_train = tokenizer.texts_to_sequences(train_plot)\n"
   ]
  },
  {
   "cell_type": "code",
   "execution_count": 9,
   "metadata": {},
   "outputs": [],
   "source": [
    "maxlen = 200\n",
    "X_t = pad_sequences(list_tokenized_train, maxlen=maxlen)"
   ]
  },
  {
   "cell_type": "code",
   "execution_count": 10,
   "metadata": {},
   "outputs": [],
   "source": [
    "totalNumWords = [len(one_comment) for one_comment in list_tokenized_train]"
   ]
  },
  {
   "cell_type": "code",
   "execution_count": 11,
   "metadata": {
    "scrolled": true
   },
   "outputs": [
    {
     "data": {
      "image/png": "[encoded data removed]",
      "text/plain": [
       "<Figure size 432x288 with 1 Axes>"
      ]
     },
     "metadata": {},
     "output_type": "display_data"
    }
   ],
   "source": [
    "plt.hist(totalNumWords,bins = np.arange(0,410,10))\n",
    "plt.show()"
   ]
  },
  {
   "cell_type": "code",
   "execution_count": 12,
   "metadata": {},
   "outputs": [],
   "source": [
    "inp = Input(shape=(maxlen, ))\n",
    "embed_size = 128\n",
    "x = Embedding(max_features, embed_size)(inp)\n",
    "x = LSTM(60, return_sequences=True,name='lstm_layer')(x)\n",
    "x = GlobalMaxPool1D()(x)\n",
    "x = Dropout(0.1)(x)\n",
    "x = Dense(50, activation=\"relu\")(x)\n",
    "x = Dropout(0.1)(x)\n",
    "x = Dense(12, activation=\"sigmoid\")(x)"
   ]
  },
  {
   "cell_type": "code",
   "execution_count": 13,
   "metadata": {},
   "outputs": [],
   "source": [
    "model = Model(inputs=inp, outputs=x)\n",
    "model.compile(loss='binary_crossentropy',\n",
    "                  optimizer='adam',\n",
    "                  metrics=['accuracy'])"
   ]
  },
  {
   "cell_type": "code",
   "execution_count": 14,
   "metadata": {},
   "outputs": [
    {
     "name": "stdout",
     "output_type": "stream",
     "text": [
      "Train on 3870 samples, validate on 430 samples\n",
      "Epoch 1/3\n",
      "3870/3870 [==============================] - 12s 3ms/sample - loss: 0.5841 - accuracy: 0.7144 - val_loss: 0.5646 - val_accuracy: 0.7335\n",
      "Epoch 2/3\n",
      "3870/3870 [==============================] - 10s 3ms/sample - loss: 0.5647 - accuracy: 0.7319 - val_loss: 0.5601 - val_accuracy: 0.7407\n",
      "Epoch 3/3\n",
      "3870/3870 [==============================] - 10s 3ms/sample - loss: 0.5388 - accuracy: 0.7426 - val_loss: 0.5270 - val_accuracy: 0.7502\n"
     ]
    }
   ],
   "source": [
    "batch_size = 32\n",
    "epochs = 3\n",
    "history = model.fit(X_t,y, batch_size=batch_size, epochs=epochs, validation_split=0.1)"
   ]
  },
  {
   "cell_type": "code",
   "execution_count": 15,
   "metadata": {},
   "outputs": [
    {
     "name": "stdout",
     "output_type": "stream",
     "text": [
      "Model: \"model\"\n",
      "_________________________________________________________________\n",
      "Layer (type)                 Output Shape              Param #   \n",
      "=================================================================\n",
      "input_1 (InputLayer)         [(None, 200)]             0         \n",
      "_________________________________________________________________\n",
      "embedding (Embedding)        (None, 200, 128)          2560000   \n",
      "_________________________________________________________________\n",
      "lstm_layer (LSTM)            (None, 200, 60)           45360     \n",
      "_________________________________________________________________\n",
      "global_max_pooling1d (Global (None, 60)                0         \n",
      "_________________________________________________________________\n",
      "dropout (Dropout)            (None, 60)                0         \n",
      "_________________________________________________________________\n",
      "dense (Dense)                (None, 50)                3050      \n",
      "_________________________________________________________________\n",
      "dropout_1 (Dropout)          (None, 50)                0         \n",
      "_________________________________________________________________\n",
      "dense_1 (Dense)              (None, 12)                612       \n",
      "=================================================================\n",
      "Total params: 2,609,022\n",
      "Trainable params: 2,609,022\n",
      "Non-trainable params: 0\n",
      "_________________________________________________________________\n"
     ]
    }
   ],
   "source": [
    "model.summary()"
   ]
  },
  {
   "cell_type": "code",
   "execution_count": 16,
   "metadata": {},
   "outputs": [
    {
     "data": {
      "image/png": "[encoded data removed]",
      "text/plain": [
       "<Figure size 432x288 with 1 Axes>"
      ]
     },
     "metadata": {},
     "output_type": "display_data"
    },
    {
     "data": {
      "image/png": "[encoded data removed]",
      "text/plain": [
       "<Figure size 432x288 with 1 Axes>"
      ]
     },
     "metadata": {},
     "output_type": "display_data"
    }
   ],
   "source": [
    "def plot_graphs(history, string):\n",
    "    plt.plot(history.history[string])\n",
    "    plt.plot(history.history['val_'+string])\n",
    "    plt.xlabel(\"Epochs\")\n",
    "    plt.ylabel(string)\n",
    "    plt.legend([string, 'val_'+string])\n",
    "    plt.show()\n",
    "  \n",
    "plot_graphs(history, \"accuracy\")\n",
    "plot_graphs(history, \"loss\")"
   ]
  },
  {
   "cell_type": "code",
   "execution_count": 17,
   "metadata": {},
   "outputs": [
    {
     "name": "stdout",
     "output_type": "stream",
     "text": [
      "Write a story here (English):\n",
      "Ichigo Kurosaki has always been able to see ghosts, but this ability does not change his life nearly as much as his close encounter with Rukia Kuchiki, a Soul Reaper and member of the mysterious Soul Society. While fighting a Hollow, an evil spirit that preys on humans who display psychic energy, Rukia attempts to lend Ichigo some of her powers so that he can save his family; but much to her surprise, Ichigo absorbs every last drop of her energy. Now a full-fledged Soul Reaper himself, Ichigo quickly learns that the world he inhabits is one full of dangerous spirits and, along with Rukia--who is slowly regaining her powers--it is Ichigos job to protect the innocent from Hollows and help the spirits themselves find peace\n"
     ]
    }
   ],
   "source": [
    "test_txt = input(\"Write a story here (English):\\n\")\n",
    "tokenized_test_txt = tokenizer.texts_to_sequences(test_txt)\n",
    "X_test = pad_sequences(tokenized_test_txt, maxlen=maxlen)"
   ]
  },
  {
   "cell_type": "code",
   "execution_count": 18,
   "metadata": {},
   "outputs": [],
   "source": [
    "pred = model.predict(X_test)\n",
    "pred2 = pred[0]\n",
    "enc_list = encoder.classes_.tolist()\n",
    "pred_list = pred2.tolist()"
   ]
  },
  {
   "cell_type": "code",
   "execution_count": 19,
   "metadata": {},
   "outputs": [],
   "source": [
    "prob_df  = pd.DataFrame()\n",
    "prob_df['Predicted Genre'] = enc_list\n",
    "prob_df['Score'] = pred_list\n",
    "prob_df.sort_values(\"Score\", ascending= False, inplace=True)"
   ]
  },
  {
   "cell_type": "code",
   "execution_count": 20,
   "metadata": {},
   "outputs": [
    {
     "data": {
      "image/png": "[encoded data removed]",
      "text/plain": [
       "<Figure size 720x432 with 1 Axes>"
      ]
     },
     "metadata": {},
     "output_type": "display_data"
    }
   ],
   "source": [
    "plt.figure(figsize=(10,6)) \n",
    "ax = sns.barplot(data=prob_df, x= 'Score', y = 'Predicted Genre') \n",
    "plt.show()"
   ]
  }
 ],
 "metadata": {
  "kernelspec": {
   "display_name": "Python 3",
   "language": "python",
   "name": "python3"
  },
  "language_info": {
   "codemirror_mode": {
    "name": "ipython",
    "version": 3
   },
   "file_extension": ".py",
   "mimetype": "text/x-python",
   "name": "python",
   "nbconvert_exporter": "python",
   "pygments_lexer": "ipython3",
   "version": "3.6.7"
  }
 },
 "nbformat": 4,
 "nbformat_minor": 2
}
