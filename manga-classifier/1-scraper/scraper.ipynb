{
 "cells": [
  {
   "cell_type": "code",
   "execution_count": 3,
   "metadata": {},
   "outputs": [],
   "source": [
    "import pandas as pd\n",
    "from bs4 import BeautifulSoup\n",
    "import requests\n"
   ]
  },
  {
   "cell_type": "code",
   "execution_count": 4,
   "metadata": {},
   "outputs": [],
   "source": [
    "home_url = \"https://www.mangapanda.com/alphabetical\"\n",
    "r = requests.get(home_url)\n",
    "html_soup = BeautifulSoup(r.text, 'html.parser')\n",
    "manga_col_containers = html_soup.find_all('div', class_ = \"series_col\")\n",
    "\n",
    "manga_urls = []\n",
    "for col in manga_col_containers:\n",
    "    links = col.findAll('a')\n",
    "    for a in links:\n",
    "        if a.has_attr('href') and a['href']!=\"#top\":\n",
    "            manga_urls.append(\"https://www.mangapanda.com\" + a['href'])"
   ]
  },
  {
   "cell_type": "code",
   "execution_count": 7,
   "metadata": {},
   "outputs": [],
   "source": [
    "df = pd.DataFrame()\n",
    "for url in manga_urls:\n",
    "    entry_dict = {}\n",
    "    r = requests.get(url)\n",
    "    if r.status_code == 404:\n",
    "        continue\n",
    "    html_soup = BeautifulSoup(r.text, 'html.parser')\n",
    "    div_container = html_soup.find(\"div\", id = \"mangaproperties\")\n",
    "    table_container = div_container.findChildren(\"tr\")\n",
    "    div_sum = html_soup.find(\"div\", id = \"readmangasum\")\n",
    "    summary = div_sum.findChild(\"p\").text\n",
    "    genre = []\n",
    "    genre_col = table_container[7].find_all(\"span\", class_= \"genretags\")\n",
    "    for gen in genre_col:\n",
    "        if gen.text.strip() != '':\n",
    "            genre.append(gen.text.strip())\n",
    "    i = 0\n",
    "    while i<=5:\n",
    "        columns = table_container[i].findChildren(\"td\")\n",
    "        entry_dict[columns[0].text.replace(':','').strip()] = columns[1].text.strip()\n",
    "        i+=1\n",
    "    entry_dict['Genre'] = genre\n",
    "    entry_dict['Plot'] = summary\n",
    "    df = df.append(entry_dict, ignore_index = True)\n",
    "\n",
    "df.to_csv(\"mangadb.csv\", sep=';', encoding='utf-8')"
   ]
  },
  {
   "cell_type": "code",
   "execution_count": null,
   "metadata": {},
   "outputs": [],
   "source": []
  }
 ],
 "metadata": {
  "kernelspec": {
   "display_name": "Python 3",
   "language": "python",
   "name": "python3"
  },
  "language_info": {
   "codemirror_mode": {
    "name": "ipython",
    "version": 3
   },
   "file_extension": ".py",
   "mimetype": "text/x-python",
   "name": "python",
   "nbconvert_exporter": "python",
   "pygments_lexer": "ipython3",
   "version": "3.6.7"
  }
 },
 "nbformat": 4,
 "nbformat_minor": 2
}
