{
 "cells": [
  {
   "cell_type": "markdown",
   "metadata": {},
   "source": [
    "# Recommendation system\n",
    "The two systems I evaluated are collaborative filtering and content based filtering.\n",
    "Maybe for perfums a collaborative filtering would be a better idea, but lacking data about users' buying patterns the only alternative was to use a content based filtering system.\n",
    "\n",
    "In this version of the system I used only one feature: the main accords. Perfumes with identical accords can be different enough because the weights of the accords are different.\n",
    "The data is filtered by gender.\n",
    "In future versions there will be more filters based on seasons, sillage, longevity, etc..."
   ]
  },
  {
   "cell_type": "code",
   "execution_count": 1,
   "metadata": {},
   "outputs": [],
   "source": [
    "import pandas as pd\n",
    "from sklearn.feature_extraction.text import TfidfVectorizer\n",
    "from sklearn.metrics.pairwise import linear_kernel"
   ]
  },
  {
   "cell_type": "code",
   "execution_count": 2,
   "metadata": {},
   "outputs": [
    {
     "data": {
      "text/plain": [
       "(24447, 15)"
      ]
     },
     "execution_count": 2,
     "metadata": {},
     "output_type": "execute_result"
    }
   ],
   "source": [
    "df = pd.read_csv(\"data_clean.csv\", sep = \";\")\n",
    "df.shape"
   ]
  },
  {
   "cell_type": "markdown",
   "metadata": {},
   "source": [
    "All unpopular/unknown perfumes are deleted to improve performance"
   ]
  },
  {
   "cell_type": "code",
   "execution_count": 3,
   "metadata": {},
   "outputs": [
    {
     "data": {
      "text/plain": [
       "(9366, 15)"
      ]
     },
     "execution_count": 3,
     "metadata": {},
     "output_type": "execute_result"
    }
   ],
   "source": [
    "#filtering the dataframe to delete unpopular/unknown perfumes (and to improve performance)\n",
    "df = df.loc[df[\"voters\"]>10]\n",
    "df.shape"
   ]
  },
  {
   "cell_type": "markdown",
   "metadata": {},
   "source": [
    "The dataframe is then filtered by gender"
   ]
  },
  {
   "cell_type": "code",
   "execution_count": 4,
   "metadata": {},
   "outputs": [
    {
     "name": "stdout",
     "output_type": "stream",
     "text": [
      "Select one gender:\n",
      "1)Men\n",
      "2)Women\n",
      "3)Unisex\n",
      "4)All perfumes\n",
      "3\n"
     ]
    }
   ],
   "source": [
    "#filtering the dataframe based on gender: 0 for men, 1 for women, 2 for unisex, 3 for all\n",
    "def filtering(data, gender):\n",
    "    data = data[[\"name\", \"main_accords\", \"gender\"]]\n",
    "    if gender == 0:\n",
    "        data = data.loc[data['gender'] == \"men\"]\n",
    "    if gender == 1:\n",
    "        data = data.loc[data['gender'] == \"women\"]\n",
    "    if gender == 2:\n",
    "        data = data.loc[data['gender'] == \"unisex\"]\n",
    "    if gender == 3:\n",
    "        pass\n",
    "    del data[\"gender\"]\n",
    "    return data\n",
    "\n",
    "gender_select = int(input(\"Select one gender:\\n1)Men\\n2)Women\\n3)Unisex\\n4)All perfumes\\n\"))\n",
    "df = filtering(df, gender_select)\n"
   ]
  },
  {
   "cell_type": "code",
   "execution_count": 5,
   "metadata": {},
   "outputs": [],
   "source": [
    "#preparing the text inside main_accords\n",
    "for index, row in df.iterrows():\n",
    "    df.at[index,\"main_accords\"] = row[\"main_accords\"].replace(\" \", \"_\").replace(\",\", \" \")\n",
    "df.reset_index(drop=True, inplace= True)"
   ]
  },
  {
   "cell_type": "markdown",
   "metadata": {},
   "source": [
    "Now a TF-IDF Vectorizer is created, and each accord is stored in an n-dimensional space and the cosine similarities method is used to determine the similarity between two accords."
   ]
  },
  {
   "cell_type": "code",
   "execution_count": 2,
   "metadata": {
    "scrolled": true
   },
   "outputs": [
    {
     "ename": "NameError",
     "evalue": "name 'df' is not defined",
     "output_type": "error",
     "traceback": [
      "\u001b[0;31m---------------------------------------------------------------------------\u001b[0m",
      "\u001b[0;31mNameError\u001b[0m                                 Traceback (most recent call last)",
      "\u001b[0;32m<ipython-input-2-8477bd4f5c6f>\u001b[0m in \u001b[0;36m<module>\u001b[0;34m()\u001b[0m\n\u001b[1;32m      2\u001b[0m \u001b[0;31m#creating TF-IDF vectorizer:\u001b[0m\u001b[0;34m\u001b[0m\u001b[0;34m\u001b[0m\u001b[0;34m\u001b[0m\u001b[0m\n\u001b[1;32m      3\u001b[0m \u001b[0mtfidf\u001b[0m \u001b[0;34m=\u001b[0m \u001b[0mTfidfVectorizer\u001b[0m\u001b[0;34m(\u001b[0m\u001b[0manalyzer\u001b[0m\u001b[0;34m=\u001b[0m\u001b[0;34m'word'\u001b[0m\u001b[0;34m,\u001b[0m \u001b[0mngram_range\u001b[0m\u001b[0;34m=\u001b[0m\u001b[0;34m(\u001b[0m\u001b[0;36m1\u001b[0m\u001b[0;34m,\u001b[0m \u001b[0;36m1\u001b[0m\u001b[0;34m)\u001b[0m\u001b[0;34m,\u001b[0m \u001b[0mmin_df\u001b[0m\u001b[0;34m=\u001b[0m\u001b[0;36m0\u001b[0m\u001b[0;34m)\u001b[0m\u001b[0;34m\u001b[0m\u001b[0;34m\u001b[0m\u001b[0m\n\u001b[0;32m----> 4\u001b[0;31m \u001b[0mtfidf_matrix\u001b[0m \u001b[0;34m=\u001b[0m \u001b[0mtfidf\u001b[0m \u001b[0;34m.\u001b[0m\u001b[0mfit_transform\u001b[0m\u001b[0;34m(\u001b[0m\u001b[0mdf\u001b[0m\u001b[0;34m[\u001b[0m\u001b[0;34m'main_accords'\u001b[0m\u001b[0;34m]\u001b[0m\u001b[0;34m)\u001b[0m\u001b[0;34m\u001b[0m\u001b[0;34m\u001b[0m\u001b[0m\n\u001b[0m\u001b[1;32m      5\u001b[0m \u001b[0;34m\u001b[0m\u001b[0m\n\u001b[1;32m      6\u001b[0m \u001b[0mcosine\u001b[0m \u001b[0;34m=\u001b[0m \u001b[0mlinear_kernel\u001b[0m\u001b[0;34m(\u001b[0m\u001b[0mtfidf_matrix\u001b[0m\u001b[0;34m,\u001b[0m \u001b[0mtfidf_matrix\u001b[0m\u001b[0;34m)\u001b[0m\u001b[0;34m\u001b[0m\u001b[0;34m\u001b[0m\u001b[0m\n",
      "\u001b[0;31mNameError\u001b[0m: name 'df' is not defined"
     ]
    }
   ],
   "source": [
    "#using cosine similarities to find perfumes with similar notes\n",
    "#creating TF-IDF vectorizer:\n",
    "tfidf = TfidfVectorizer(analyzer='word', ngram_range=(1, 1), min_df=0)\n",
    "tfidf_matrix = tfidf .fit_transform(df['main_accords'])\n",
    "\n",
    "cosine = linear_kernel(tfidf_matrix, tfidf_matrix)\n",
    "results = {}\n",
    "for index, row in df.iterrows():\n",
    "    sim_indices = cosine[index].argsort()[:-100:-1] \n",
    "    sim_items = [(cosine[index][i], df['name'][i]) for i in sim_indices] \n",
    "    results[row['name']] = sim_items[1:]"
   ]
  },
  {
   "cell_type": "code",
   "execution_count": 7,
   "metadata": {},
   "outputs": [],
   "source": [
    "def recommend(item_id, num):\n",
    "    print(str(num) + \" perfumes similar to \" + item_id + \":\")\n",
    "    print(\"-------\")\n",
    "    recs = results[item_id][:num]\n",
    "    for rec in recs:\n",
    "        score_percent = int(rec[0]*100)\n",
    "        print(rec[1] + \" (score:\" + str(score_percent) + \"%)\")\n"
   ]
  },
  {
   "cell_type": "markdown",
   "metadata": {},
   "source": [
    "The recommend function takes the name of a perfumes as input, and prints n perfumes similar to it. A perfume with 100% score has the same accords as the input, although the weights of the accords can differ."
   ]
  },
  {
   "cell_type": "code",
   "execution_count": 8,
   "metadata": {
    "scrolled": true
   },
   "outputs": [
    {
     "name": "stdout",
     "output_type": "stream",
     "text": [
      "20 perfumes similar to Reaction Kenneth Cole for men:\n",
      "-------\n",
      "Teatro Olfattivo Di Parma: Mangiami Dopo Teatro Hilde Soliani for women and men (score:100%)\n",
      "Eternity Summer 2015  Calvin Klein for women (score:96%)\n",
      "Marina Blue Princesse Marina De Bourbon for women (score:96%)\n",
      "Speedlife Woman Tom Tailor for women (score:93%)\n",
      "Eau Mega Viktor&Rolf for women (score:93%)\n",
      "Exceptional Because You Are For Men Exceptional Parfums for men (score:93%)\n",
      "Tommy Girl Summer 2011 Tommy Hilfiger for women (score:92%)\n",
      "Pure Lightness Adidas for women (score:92%)\n",
      "Davidoff Cool Water Woman Coral Reef Edition Davidoff for women (score:92%)\n",
      "Neon Blue Superdry for women (score:92%)\n",
      "OP Juice for Women Ocean Pacific for women (score:92%)\n",
      "Head Over Heels Revlon for women (score:92%)\n",
      "Blue Seduction Antonio Banderas for women (score:92%)\n",
      "Harajuku Lovers Wicked Style G Harajuku Lovers for women (score:92%)\n",
      "Ice Sheers Refreshing Avon for women (score:92%)\n",
      "Freedom for Her Tommy Hilfiger for women (score:91%)\n",
      "Heidi Klum Me LR for women (score:90%)\n",
      "Butterfly Marks and Spencer for women (score:89%)\n",
      "Body Fantasies Cucumber Melon Fantasy Parfums de Coeur for women (score:89%)\n",
      "Intense Instinct David & Victoria Beckham for men (score:89%)\n"
     ]
    }
   ],
   "source": [
    "recommend(item_id=\"Reaction Kenneth Cole for men\", num=20)"
   ]
  },
  {
   "cell_type": "code",
   "execution_count": null,
   "metadata": {},
   "outputs": [],
   "source": []
  }
 ],
 "metadata": {
  "kernelspec": {
   "display_name": "Python 3",
   "language": "python",
   "name": "python3"
  },
  "language_info": {
   "codemirror_mode": {
    "name": "ipython",
    "version": 3
   },
   "file_extension": ".py",
   "mimetype": "text/x-python",
   "name": "python",
   "nbconvert_exporter": "python",
   "pygments_lexer": "ipython3",
   "version": "3.6.7"
  }
 },
 "nbformat": 4,
 "nbformat_minor": 2
}
