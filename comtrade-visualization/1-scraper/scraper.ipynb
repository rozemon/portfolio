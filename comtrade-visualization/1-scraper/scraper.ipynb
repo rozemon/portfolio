{
 "cells": [
  {
   "cell_type": "markdown",
   "metadata": {},
   "source": [
    "# COMTRADE SCRAPER\n",
    "This scraper generates api calls to the Comtrade Api (Documentation: https://comtrade.un.org/data/doc/api)\n",
    "It takes the input from external files in the folder \"input\".\n",
    "A lot of csv files are generated and then joined at the end. They are stored in the output folder."
   ]
  },
  {
   "cell_type": "code",
   "execution_count": null,
   "metadata": {},
   "outputs": [],
   "source": [
    "import os\n",
    "from os import listdir\n",
    "from os.path import isfile, join\n",
    "import pandas as pd\n",
    "import requests\n",
    "from io import StringIO\n",
    "import uuid\n",
    "import math\n",
    "import time"
   ]
  },
  {
   "cell_type": "code",
   "execution_count": null,
   "metadata": {},
   "outputs": [],
   "source": [
    "current_path = os.getcwd()\n",
    "input_path = os.path.join(current_path, \"input\")\n",
    "output_path = os.path.join(current_path, \"output\")\n",
    "\n",
    "partners_dummies = pd.read_csv(input_path + \"/uncomtrade_partners.csv\", sep = \",\", encoding='latin-1').set_index('V0')\n",
    "partners_list = partners_dummies.loc[partners_dummies['V3'] == 1][\"V1\"].tolist()\n",
    "\n",
    "reporting_dummies = pd.read_csv(input_path + \"/uncomtrade_reporting.csv\", sep = \",\", encoding='latin-1').set_index('V0')\n",
    "reporting_list = reporting_dummies.loc[reporting_dummies['V3'] == 1][\"V1\"].tolist()\n",
    "\n",
    "HS_dummies = pd.read_csv(input_path + \"/HS5.csv\", sep = \";\", encoding='latin-1', dtype = \"object\")\n",
    "HS_list = HS_dummies[\"V2\"].tolist()\n",
    "\n",
    "years_dummies = pd.read_csv(input_path + \"/uncomtrade_years.csv\", sep = \",\", encoding='latin-1').set_index('V0')\n",
    "years_list = years_dummies.loc[years_dummies['V3'] == 1][\"V1\"].tolist()\n",
    "\n",
    "def group_elements(input_list, max_value, separator):\n",
    "    list_process = input_list.copy()\n",
    "    list_single_group = []\n",
    "    list_grouped = []\n",
    "    counter = 0\n",
    "    while len(list_process) > 0:\n",
    "        if len(list_process) < max_value:\n",
    "            max_value = len(list_process)\n",
    "        list_single_group = list_process[0:max_value]\n",
    "        list_grouped.append(separator.join(list_single_group))\n",
    "        list_process = list_process[max_value:]\n",
    "    return list_grouped\n",
    "\n",
    "HS_grouped_list = group_elements(HS_list, 19, \"%2C\")\n",
    "years_grouped_list = group_elements(years_list, 5, \"%2C\")\n",
    "url_list = []\n",
    "url_error_list = []\n",
    "max_number_requests = 99\n",
    "time_stop = math.floor(3600/max_number_requests)"
   ]
  },
  {
   "cell_type": "code",
   "execution_count": null,
   "metadata": {},
   "outputs": [],
   "source": [
    "def getComtrade(url = \"https://comtrade.un.org/api/get?\",   #URL di base\n",
    "                maxrec=50000,    #records max number\n",
    "                tipe=\"C\",    #trade type (C = commodities)\n",
    "                freq=\"A\",    #frequency: yearly, monthly, ecc...\n",
    "                px=\"hs\",    #classification type\n",
    "                ps = \"placeholder\",     #time period\n",
    "                r = \"placeholder\",    #reporting area\n",
    "                p=\"all\",    #country partner\n",
    "                rg=\"all\",    #trade flow\n",
    "                cc = \"placeholder\",    #classification code\n",
    "                fmt=\"csv\"):    #save format\n",
    "    query = (str(url) + \"max=\" + str(maxrec) + \"&\" + \"type=\" + str(tipe) + \"&\" + \"freq=\" + str(freq) + \"&\" \n",
    "               + \"px=\" + str(px) + \"&\" + \"ps=\" + str(ps) + \"&\" + \"r=\" + str(r) + \"&\" + \"p=\" + str(p) + \"&\" \n",
    "               + \"rg=\" + str(rg) + \"&\" + \"cc=\" + str(cc) + \"&\" + \"fmt=\" + str(fmt))\n",
    "    \n",
    "    try:\n",
    "        response = requests.get(query)\n",
    "        if response.status_code == 200:\n",
    "            df_response = pd.read_csv(StringIO(response.text))\n",
    "            saveComtrade(df_response, ps, r, p, cc) \n",
    "        else:\n",
    "            url_error_list.append(query)\n",
    "    except:\n",
    "        url_error_list.append(query)\n",
    "    time.sleep(time_stop)\n",
    "    \n",
    "def saveComtrade(df_argument ,ps = \"Err\" , r = \"Err\" , p = \"Err\", cc = \"Err\"):\n",
    "    filename = (\"tradefile\" + str(uuid.uuid4()) + \".csv\")\n",
    "    #print(\"Saving dataset with reporter \" + str(r) + \" with partner \" + str(p)+ \" with HS \" + str(cc) + \" for year \" + str(ps))\n",
    "    filename_absolute_path = os.path.join(output_path, filename)\n",
    "    df_argument.to_csv(filename_absolute_path, sep=',', encoding='utf-8')\n"
   ]
  },
  {
   "cell_type": "code",
   "execution_count": null,
   "metadata": {},
   "outputs": [],
   "source": [
    "total_queries = len(partners_list) * len(reporting_list) * len(HS_grouped_list) * len(years_grouped_list)\n",
    "i = 1\n",
    "for p1 in partners_list:\n",
    "    for p2 in reporting_list:\n",
    "        for p3 in HS_grouped_list:\n",
    "            for p4 in years_grouped_list:\n",
    "                getComtrade(p = p1, r = p2, cc = p3, ps = p4)\n",
    "                print(\"\\nQuery \" + str(i) + \"/\" + str(total_queries) + \"\\n\")\n",
    "                print(\"\\nElapsed time: \" + str((i*time_stop)/60) + \" minutes\")\n",
    "                print(\"\\nRemaining time: \" + str(((total_queries-i)*time_stop)/60) + \" minutes\")\n",
    "                i = i+1"
   ]
  },
  {
   "cell_type": "code",
   "execution_count": null,
   "metadata": {},
   "outputs": [],
   "source": [
    "def csv_fusion():\n",
    "    filelist = [f for f in listdir(output_path) if isfile(join(output_path, f))]\n",
    "    filelist_csv = []\n",
    "    for x in filelist:\n",
    "        if x.startswith(\"trade\") and x.endswith(\".csv\"):\n",
    "            filelist_csv.append(x)\n",
    "\n",
    "    dataframe_list = []\n",
    "    for elem in filelist_csv:\n",
    "        dataframe_temp = pd.read_csv(output_path + \"/\" + elem, sep = \",\", encoding='latin-1')\n",
    "        dataframe_list.append(dataframe_temp)\n",
    "    final_df = pd.concat(dataframe_list, ignore_index=True)\n",
    "    final_df.to_csv(output_path + \"/\" + \"Comtrade_raw_data.csv\", sep = \",\", encoding='latin-1', index=False)\n",
    "\n",
    "csv_fusion()"
   ]
  }
 ],
 "metadata": {
  "kernelspec": {
   "display_name": "Python 3",
   "language": "python",
   "name": "python3"
  },
  "language_info": {
   "codemirror_mode": {
    "name": "ipython",
    "version": 3
   },
   "file_extension": ".py",
   "mimetype": "text/x-python",
   "name": "python",
   "nbconvert_exporter": "python",
   "pygments_lexer": "ipython3",
   "version": "3.6.7"
  }
 },
 "nbformat": 4,
 "nbformat_minor": 2
}
