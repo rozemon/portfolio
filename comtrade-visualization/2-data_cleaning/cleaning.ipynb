{
 "cells": [
  {
   "cell_type": "markdown",
   "metadata": {},
   "source": [
    "# DATA CLEANING\n",
    "A sample csv file containing 50k rows is included. The complete csv dataset containing all trades between Italy and all other countries from 2004 to 2017 was about 4.2Gb (about 16 million rows)."
   ]
  },
  {
   "cell_type": "code",
   "execution_count": 6,
   "metadata": {},
   "outputs": [],
   "source": [
    "import pandas as pd\n",
    "import os\n",
    "from os import listdir\n",
    "from os.path import isfile, join"
   ]
  },
  {
   "cell_type": "code",
   "execution_count": 11,
   "metadata": {},
   "outputs": [],
   "source": [
    "filename = \"Comtrade_raw_data.csv\"\n",
    "df = pd.read_csv(filename, sep = \",\", encoding='latin-1')"
   ]
  },
  {
   "cell_type": "code",
   "execution_count": 12,
   "metadata": {},
   "outputs": [
    {
     "data": {
      "text/plain": [
       "(50000, 36)"
      ]
     },
     "execution_count": 12,
     "metadata": {},
     "output_type": "execute_result"
    }
   ],
   "source": [
    "df.shape"
   ]
  },
  {
   "cell_type": "code",
   "execution_count": 13,
   "metadata": {},
   "outputs": [],
   "source": [
    "columns = ['Aggregate Level',\n",
    " 'Alt Qty Unit',\n",
    " 'Commodity Code',\n",
    " 'Commodity',\n",
    " 'Flag',\n",
    " 'Netweight (kg)',\n",
    " 'Partner Code',\n",
    " 'Reporter Code',\n",
    " 'Trade Flow Code',\n",
    " 'Trade Value (US$)',\n",
    " 'Year']\n",
    "df = df[columns]\n"
   ]
  },
  {
   "cell_type": "code",
   "execution_count": 14,
   "metadata": {},
   "outputs": [
    {
     "data": {
      "text/plain": [
       "Aggregate Level      False\n",
       "Alt Qty Unit          True\n",
       "Commodity Code       False\n",
       "Commodity            False\n",
       "Flag                 False\n",
       "Netweight (kg)        True\n",
       "Partner Code         False\n",
       "Reporter Code        False\n",
       "Trade Flow Code      False\n",
       "Trade Value (US$)    False\n",
       "Year                 False\n",
       "dtype: bool"
      ]
     },
     "execution_count": 14,
     "metadata": {},
     "output_type": "execute_result"
    }
   ],
   "source": [
    "df.isnull().any()\n",
    "#null values are present in unimportant columns"
   ]
  },
  {
   "cell_type": "code",
   "execution_count": 15,
   "metadata": {},
   "outputs": [
    {
     "data": {
      "text/plain": [
       "(50000, 11)"
      ]
     },
     "execution_count": 15,
     "metadata": {},
     "output_type": "execute_result"
    }
   ],
   "source": [
    "df.shape"
   ]
  },
  {
   "cell_type": "code",
   "execution_count": 5,
   "metadata": {},
   "outputs": [],
   "source": [
    "df.to_csv(\"Comtrade_clean_data.csv\", sep = \",\", encoding='latin-1', index=False)"
   ]
  }
 ],
 "metadata": {
  "kernelspec": {
   "display_name": "Python 3",
   "language": "python",
   "name": "python3"
  },
  "language_info": {
   "codemirror_mode": {
    "name": "ipython",
    "version": 3
   },
   "file_extension": ".py",
   "mimetype": "text/x-python",
   "name": "python",
   "nbconvert_exporter": "python",
   "pygments_lexer": "ipython3",
   "version": "3.6.7"
  }
 },
 "nbformat": 4,
 "nbformat_minor": 2
}
